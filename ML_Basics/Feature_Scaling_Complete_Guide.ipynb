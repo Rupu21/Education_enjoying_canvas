{
 "cells": [
  {
   "cell_type": "markdown",
   "id": "8ea7c943",
   "metadata": {},
   "source": [
    "# 📊 Feature Scaling in Machine Learning – A Complete Guide"
   ]
  },
  {
   "cell_type": "markdown",
   "id": "a802b9e6",
   "metadata": {},
   "source": [
    "\n",
    "## 🔹 1. Introduction\n",
    "\n",
    "Feature scaling is a crucial preprocessing step in many machine learning pipelines. It brings all the features to a comparable scale, which is essential for distance-based or gradient-based models like:\n",
    "\n",
    "- KNN\n",
    "- SVM\n",
    "- Linear Regression\n",
    "- Logistic Regression\n",
    "- Neural Networks\n"
   ]
  },
  {
   "cell_type": "markdown",
   "id": "5462de90",
   "metadata": {},
   "source": [
    "\n",
    "## 🔹 2. Why Feature Scaling?\n",
    "\n",
    "Let’s say you have a dataset with two features:\n",
    "\n",
    "- `Age`: 18–60\n",
    "- `Salary`: 30,000–200,000\n",
    "\n",
    "These features have very different ranges. Algorithms might prioritize the one with the larger scale (salary), which isn't ideal unless that feature is indeed more important.\n"
   ]
  },
  {
   "cell_type": "markdown",
   "id": "7e1eb780",
   "metadata": {},
   "source": [
    "\n",
    "## 🔹 3. Mathematical Explanation\n",
    "\n",
    "### ✅ Min-Max Scaling (Normalization)\n",
    "\n",
    "Rescales values between 0 and 1.\n",
    "\n",
    "$$\n",
    "x_{\\text{scaled}} = \\frac{x - x_{\\text{min}}}{x_{\\text{max}} - x_{\\text{min}}}\n",
    "$$\n",
    "\n",
    "### ✅ Standardization (Z-score Normalization)\n",
    "\n",
    "Centers data around mean 0 and standard deviation 1.\n",
    "\n",
    "$$\n",
    "x_{\\text{scaled}} = \\frac{x - \\mu}{\\sigma}\n",
    "$$\n"
   ]
  },
  {
   "cell_type": "markdown",
   "id": "641ada81",
   "metadata": {},
   "source": [
    "## 🔹 4. Python Implementation"
   ]
  },
  {
   "cell_type": "code",
   "execution_count": 1,
   "id": "f4eb0628",
   "metadata": {},
   "outputs": [
    {
     "data": {
      "text/html": [
       "<div>\n",
       "<style scoped>\n",
       "    .dataframe tbody tr th:only-of-type {\n",
       "        vertical-align: middle;\n",
       "    }\n",
       "\n",
       "    .dataframe tbody tr th {\n",
       "        vertical-align: top;\n",
       "    }\n",
       "\n",
       "    .dataframe thead th {\n",
       "        text-align: right;\n",
       "    }\n",
       "</style>\n",
       "<table border=\"1\" class=\"dataframe\">\n",
       "  <thead>\n",
       "    <tr style=\"text-align: right;\">\n",
       "      <th></th>\n",
       "      <th>Age</th>\n",
       "      <th>Salary</th>\n",
       "    </tr>\n",
       "  </thead>\n",
       "  <tbody>\n",
       "    <tr>\n",
       "      <th>0</th>\n",
       "      <td>25</td>\n",
       "      <td>50000</td>\n",
       "    </tr>\n",
       "    <tr>\n",
       "      <th>1</th>\n",
       "      <td>35</td>\n",
       "      <td>80000</td>\n",
       "    </tr>\n",
       "    <tr>\n",
       "      <th>2</th>\n",
       "      <td>45</td>\n",
       "      <td>120000</td>\n",
       "    </tr>\n",
       "    <tr>\n",
       "      <th>3</th>\n",
       "      <td>20</td>\n",
       "      <td>30000</td>\n",
       "    </tr>\n",
       "  </tbody>\n",
       "</table>\n",
       "</div>"
      ],
      "text/plain": [
       "   Age  Salary\n",
       "0   25   50000\n",
       "1   35   80000\n",
       "2   45  120000\n",
       "3   20   30000"
      ]
     },
     "execution_count": 1,
     "metadata": {},
     "output_type": "execute_result"
    }
   ],
   "source": [
    "\n",
    "import numpy as np\n",
    "import pandas as pd\n",
    "\n",
    "data = np.array([\n",
    "    [25, 50000],\n",
    "    [35, 80000],\n",
    "    [45, 120000],\n",
    "    [20, 30000]\n",
    "])\n",
    "\n",
    "df = pd.DataFrame(data, columns=[\"Age\", \"Salary\"])\n",
    "df\n"
   ]
  },
  {
   "cell_type": "markdown",
   "id": "c9f9f5ed",
   "metadata": {},
   "source": [
    "## 🔹 5. Using Scikit-learn"
   ]
  },
  {
   "cell_type": "code",
   "execution_count": 2,
   "id": "765ac61d",
   "metadata": {},
   "outputs": [
    {
     "data": {
      "text/html": [
       "<div>\n",
       "<style scoped>\n",
       "    .dataframe tbody tr th:only-of-type {\n",
       "        vertical-align: middle;\n",
       "    }\n",
       "\n",
       "    .dataframe tbody tr th {\n",
       "        vertical-align: top;\n",
       "    }\n",
       "\n",
       "    .dataframe thead th {\n",
       "        text-align: right;\n",
       "    }\n",
       "</style>\n",
       "<table border=\"1\" class=\"dataframe\">\n",
       "  <thead>\n",
       "    <tr style=\"text-align: right;\">\n",
       "      <th></th>\n",
       "      <th>Age_scaled</th>\n",
       "      <th>Salary_scaled</th>\n",
       "    </tr>\n",
       "  </thead>\n",
       "  <tbody>\n",
       "    <tr>\n",
       "      <th>0</th>\n",
       "      <td>0.2</td>\n",
       "      <td>0.222222</td>\n",
       "    </tr>\n",
       "    <tr>\n",
       "      <th>1</th>\n",
       "      <td>0.6</td>\n",
       "      <td>0.555556</td>\n",
       "    </tr>\n",
       "    <tr>\n",
       "      <th>2</th>\n",
       "      <td>1.0</td>\n",
       "      <td>1.000000</td>\n",
       "    </tr>\n",
       "    <tr>\n",
       "      <th>3</th>\n",
       "      <td>0.0</td>\n",
       "      <td>0.000000</td>\n",
       "    </tr>\n",
       "  </tbody>\n",
       "</table>\n",
       "</div>"
      ],
      "text/plain": [
       "   Age_scaled  Salary_scaled\n",
       "0         0.2       0.222222\n",
       "1         0.6       0.555556\n",
       "2         1.0       1.000000\n",
       "3         0.0       0.000000"
      ]
     },
     "execution_count": 2,
     "metadata": {},
     "output_type": "execute_result"
    }
   ],
   "source": [
    "\n",
    "from sklearn.preprocessing import MinMaxScaler, StandardScaler\n",
    "\n",
    "# Min-Max Scaling\n",
    "minmax = MinMaxScaler()\n",
    "minmax_scaled = minmax.fit_transform(data)\n",
    "\n",
    "# Standard Scaling\n",
    "standard = StandardScaler()\n",
    "standard_scaled = standard.fit_transform(data)\n",
    "\n",
    "# Show results\n",
    "pd.DataFrame(minmax_scaled, columns=[\"Age_scaled\", \"Salary_scaled\"])\n"
   ]
  },
  {
   "cell_type": "code",
   "execution_count": 3,
   "id": "edfb3d71",
   "metadata": {},
   "outputs": [
    {
     "data": {
      "text/html": [
       "<div>\n",
       "<style scoped>\n",
       "    .dataframe tbody tr th:only-of-type {\n",
       "        vertical-align: middle;\n",
       "    }\n",
       "\n",
       "    .dataframe tbody tr th {\n",
       "        vertical-align: top;\n",
       "    }\n",
       "\n",
       "    .dataframe thead th {\n",
       "        text-align: right;\n",
       "    }\n",
       "</style>\n",
       "<table border=\"1\" class=\"dataframe\">\n",
       "  <thead>\n",
       "    <tr style=\"text-align: right;\">\n",
       "      <th></th>\n",
       "      <th>Age_standardized</th>\n",
       "      <th>Salary_standardized</th>\n",
       "    </tr>\n",
       "  </thead>\n",
       "  <tbody>\n",
       "    <tr>\n",
       "      <th>0</th>\n",
       "      <td>-0.650945</td>\n",
       "      <td>-0.589768</td>\n",
       "    </tr>\n",
       "    <tr>\n",
       "      <th>1</th>\n",
       "      <td>0.390567</td>\n",
       "      <td>0.294884</td>\n",
       "    </tr>\n",
       "    <tr>\n",
       "      <th>2</th>\n",
       "      <td>1.432078</td>\n",
       "      <td>1.474420</td>\n",
       "    </tr>\n",
       "    <tr>\n",
       "      <th>3</th>\n",
       "      <td>-1.171700</td>\n",
       "      <td>-1.179536</td>\n",
       "    </tr>\n",
       "  </tbody>\n",
       "</table>\n",
       "</div>"
      ],
      "text/plain": [
       "   Age_standardized  Salary_standardized\n",
       "0         -0.650945            -0.589768\n",
       "1          0.390567             0.294884\n",
       "2          1.432078             1.474420\n",
       "3         -1.171700            -1.179536"
      ]
     },
     "execution_count": 3,
     "metadata": {},
     "output_type": "execute_result"
    }
   ],
   "source": [
    "\n",
    "pd.DataFrame(standard_scaled, columns=[\"Age_standardized\", \"Salary_standardized\"])\n"
   ]
  },
  {
   "cell_type": "markdown",
   "id": "f6aa146e",
   "metadata": {},
   "source": [
    "## 🔹 6. From Scratch (NumPy)"
   ]
  },
  {
   "cell_type": "code",
   "execution_count": 7,
   "id": "e58b2ed0",
   "metadata": {},
   "outputs": [
    {
     "name": "stdout",
     "output_type": "stream",
     "text": [
      "Min-Max from scratch:\n",
      " [[0.2        0.22222222]\n",
      " [0.6        0.55555556]\n",
      " [1.         1.        ]\n",
      " [0.         0.        ]]\n",
      "\n",
      "Standardized from scratch:\n",
      "[[-0.65094455 -0.58976782]\n",
      " [ 0.39056673  0.29488391]\n",
      " [ 1.43207802  1.47441956]\n",
      " [-1.1717002  -1.17953565]]\n",
      "\n"
     ]
    }
   ],
   "source": [
    "\n",
    "def min_max_scale(data):\n",
    "    return (data - np.min(data, axis=0)) / (np.max(data, axis=0) - np.min(data, axis=0))\n",
    "\n",
    "def standardize(data):\n",
    "    return (data - np.mean(data, axis=0)) / np.std(data, axis=0)\n",
    "\n",
    "print(f\"Min-Max from scratch:\\n {min_max_scale(data)}\\n\")\n",
    "print(f\"Standardized from scratch:\\n{standardize(data)}\\n\")\n"
   ]
  },
  {
   "cell_type": "markdown",
   "id": "4f673408",
   "metadata": {},
   "source": [
    "## 🔹 7. Visualizing the Scaling"
   ]
  },
  {
   "cell_type": "code",
   "execution_count": 5,
   "id": "5cae7110",
   "metadata": {},
   "outputs": [
    {
     "data": {
      "image/png": "[encoded data removed]",
      "text/plain": [
       "<Figure size 1600x400 with 3 Axes>"
      ]
     },
     "metadata": {},
     "output_type": "display_data"
    }
   ],
   "source": [
    "\n",
    "import matplotlib.pyplot as plt\n",
    "\n",
    "fig, axs = plt.subplots(1, 3, figsize=(16, 4))\n",
    "\n",
    "axs[0].set_title(\"Original Data\")\n",
    "axs[0].scatter(data[:,0], data[:,1])\n",
    "axs[0].set_xlabel(\"Age\")\n",
    "axs[0].set_ylabel(\"Salary\")\n",
    "\n",
    "axs[1].set_title(\"Min-Max Scaled\")\n",
    "axs[1].scatter(minmax_scaled[:,0], minmax_scaled[:,1])\n",
    "axs[1].set_xlabel(\"Age_scaled\")\n",
    "axs[1].set_ylabel(\"Salary_scaled\")\n",
    "\n",
    "axs[2].set_title(\"Standardized\")\n",
    "axs[2].scatter(standard_scaled[:,0], standard_scaled[:,1])\n",
    "axs[2].set_xlabel(\"Age_standardized\")\n",
    "axs[2].set_ylabel(\"Salary_standardized\")\n",
    "\n",
    "plt.tight_layout()\n",
    "plt.show()\n"
   ]
  },
  {
   "cell_type": "markdown",
   "id": "b967fddb",
   "metadata": {},
   "source": [
    "\n",
    "## 🔹 8. When to Use What?\n",
    "\n",
    "| Scaling Method | Use Case |\n",
    "|----------------|----------|\n",
    "| Min-Max Scaling | When using ML models sensitive to magnitudes and bounded inputs (e.g. neural nets) |\n",
    "| Standardization | When you don’t know the data bounds, or using models assuming normal distribution (e.g. Logistic Regression, SVM) |\n"
   ]
  },
  {
   "cell_type": "markdown",
   "id": "6c1ae1f7",
   "metadata": {},
   "source": [
    "\n",
    "## ✅ Summary\n",
    "\n",
    "- **Always scale your data** before feeding it into most ML models.\n",
    "- Use **Min-Max Scaling** for bounded input or when working with pixel data (images).\n",
    "- Use **Standardization** for statistical models or when outliers are not dominant.\n",
    "\n",
    "| Algorithm Type                         | Requires Scaling? | Recommended Method           |\n",
    "|----------------------------------------|-------------------|------------------------------|\n",
    "| Distance-based (KNN, K-Means)          | ✅ Yes            | Min-Max or Standardization   |\n",
    "| Gradient-based (NN, SVM)               | ✅ Yes            | Standardization              |\n",
    "| Regularized Models (Ridge, Lasso)      | ✅ Yes            | Standardization              |\n",
    "| PCA / LDA / t-SNE                      | ✅ Yes            | Standardization              |\n",
    "| Tree-based (Random Forest, XGBoost)    | ❌ No             | Not needed                   |\n"
   ]
  },
  {
   "cell_type": "markdown",
   "id": "f622246e",
   "metadata": {},
   "source": []
  }
 ],
 "metadata": {
  "kernelspec": {
   "display_name": "ml_basics",
   "language": "python",
   "name": "python3"
  },
  "language_info": {
   "codemirror_mode": {
    "name": "ipython",
    "version": 3
   },
   "file_extension": ".py",
   "mimetype": "text/x-python",
   "name": "python",
   "nbconvert_exporter": "python",
   "pygments_lexer": "ipython3",
   "version": "3.11.11"
  }
 },
 "nbformat": 4,
 "nbformat_minor": 5
}
